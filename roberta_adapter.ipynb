{
  "metadata": {
    "accelerator": "GPU",
    "colab": {
      "provenance": [],
      "gpuType": "T4"
    },
    "kernelspec": {
      "display_name": "Python 3",
      "name": "python3"
    },
    "language_info": {
      "name": "python",
      "version": "3.10.12",
      "mimetype": "text/x-python",
      "codemirror_mode": {
        "name": "ipython",
        "version": 3
      },
      "pygments_lexer": "ipython3",
      "nbconvert_exporter": "python",
      "file_extension": ".py"
    },
    "widgets": {
      "application/vnd.jupyter.widget-state+json": {
        "6e7e129ddb274f4fb3bf0660df5cbb29": {
          "model_module": "@jupyter-widgets/controls",
          "model_name": "HBoxModel",
          "model_module_version": "1.5.0",
          "state": {
            "_dom_classes": [],
            "_model_module": "@jupyter-widgets/controls",
            "_model_module_version": "1.5.0",
            "_model_name": "HBoxModel",
            "_view_count": null,
            "_view_module": "@jupyter-widgets/controls",
            "_view_module_version": "1.5.0",
            "_view_name": "HBoxView",
            "box_style": "",
            "children": [
              "IPY_MODEL_b03b88459bb040908599e18d3d9282b5",
              "IPY_MODEL_6b048941825443e498ee82a6d5664e05",
              "IPY_MODEL_bf370c21e46e4fe0bfee70cc951a2873"
            ],
            "layout": "IPY_MODEL_3ee81cf04f84487f841ad2b93c165ced"
          }
        },
        "b03b88459bb040908599e18d3d9282b5": {
          "model_module": "@jupyter-widgets/controls",
          "model_name": "HTMLModel",
          "model_module_version": "1.5.0",
          "state": {
            "_dom_classes": [],
            "_model_module": "@jupyter-widgets/controls",
            "_model_module_version": "1.5.0",
            "_model_name": "HTMLModel",
            "_view_count": null,
            "_view_module": "@jupyter-widgets/controls",
            "_view_module_version": "1.5.0",
            "_view_name": "HTMLView",
            "description": "",
            "description_tooltip": null,
            "layout": "IPY_MODEL_1f6fc65e6da947af926ba62797a64799",
            "placeholder": "​",
            "style": "IPY_MODEL_4dfec16799ae4d44b165c12b49d46aab",
            "value": "Map: 100%"
          }
        },
        "6b048941825443e498ee82a6d5664e05": {
          "model_module": "@jupyter-widgets/controls",
          "model_name": "FloatProgressModel",
          "model_module_version": "1.5.0",
          "state": {
            "_dom_classes": [],
            "_model_module": "@jupyter-widgets/controls",
            "_model_module_version": "1.5.0",
            "_model_name": "FloatProgressModel",
            "_view_count": null,
            "_view_module": "@jupyter-widgets/controls",
            "_view_module_version": "1.5.0",
            "_view_name": "ProgressView",
            "bar_style": "success",
            "description": "",
            "description_tooltip": null,
            "layout": "IPY_MODEL_ba9d166ab1ae4f0cb81d20e2b4c50bd5",
            "max": 35779,
            "min": 0,
            "orientation": "horizontal",
            "style": "IPY_MODEL_909071488b074db2bd075a90f58eb8b2",
            "value": 35779
          }
        },
        "bf370c21e46e4fe0bfee70cc951a2873": {
          "model_module": "@jupyter-widgets/controls",
          "model_name": "HTMLModel",
          "model_module_version": "1.5.0",
          "state": {
            "_dom_classes": [],
            "_model_module": "@jupyter-widgets/controls",
            "_model_module_version": "1.5.0",
            "_model_name": "HTMLModel",
            "_view_count": null,
            "_view_module": "@jupyter-widgets/controls",
            "_view_module_version": "1.5.0",
            "_view_name": "HTMLView",
            "description": "",
            "description_tooltip": null,
            "layout": "IPY_MODEL_d6e71eeb82f349e3a60440766558538c",
            "placeholder": "​",
            "style": "IPY_MODEL_6d7f51efbf2246519e61d8ebf9db579c",
            "value": " 35779/35779 [00:16&lt;00:00, 3448.51 examples/s]"
          }
        },
        "3ee81cf04f84487f841ad2b93c165ced": {
          "model_module": "@jupyter-widgets/base",
          "model_name": "LayoutModel",
          "model_module_version": "1.2.0",
          "state": {
            "_model_module": "@jupyter-widgets/base",
            "_model_module_version": "1.2.0",
            "_model_name": "LayoutModel",
            "_view_count": null,
            "_view_module": "@jupyter-widgets/base",
            "_view_module_version": "1.2.0",
            "_view_name": "LayoutView",
            "align_content": null,
            "align_items": null,
            "align_self": null,
            "border": null,
            "bottom": null,
            "display": null,
            "flex": null,
            "flex_flow": null,
            "grid_area": null,
            "grid_auto_columns": null,
            "grid_auto_flow": null,
            "grid_auto_rows": null,
            "grid_column": null,
            "grid_gap": null,
            "grid_row": null,
            "grid_template_areas": null,
            "grid_template_columns": null,
            "grid_template_rows": null,
            "height": null,
            "justify_content": null,
            "justify_items": null,
            "left": null,
            "margin": null,
            "max_height": null,
            "max_width": null,
            "min_height": null,
            "min_width": null,
            "object_fit": null,
            "object_position": null,
            "order": null,
            "overflow": null,
            "overflow_x": null,
            "overflow_y": null,
            "padding": null,
            "right": null,
            "top": null,
            "visibility": null,
            "width": null
          }
        },
        "1f6fc65e6da947af926ba62797a64799": {
          "model_module": "@jupyter-widgets/base",
          "model_name": "LayoutModel",
          "model_module_version": "1.2.0",
          "state": {
            "_model_module": "@jupyter-widgets/base",
            "_model_module_version": "1.2.0",
            "_model_name": "LayoutModel",
            "_view_count": null,
            "_view_module": "@jupyter-widgets/base",
            "_view_module_version": "1.2.0",
            "_view_name": "LayoutView",
            "align_content": null,
            "align_items": null,
            "align_self": null,
            "border": null,
            "bottom": null,
            "display": null,
            "flex": null,
            "flex_flow": null,
            "grid_area": null,
            "grid_auto_columns": null,
            "grid_auto_flow": null,
            "grid_auto_rows": null,
            "grid_column": null,
            "grid_gap": null,
            "grid_row": null,
            "grid_template_areas": null,
            "grid_template_columns": null,
            "grid_template_rows": null,
            "height": null,
            "justify_content": null,
            "justify_items": null,
            "left": null,
            "margin": null,
            "max_height": null,
            "max_width": null,
            "min_height": null,
            "min_width": null,
            "object_fit": null,
            "object_position": null,
            "order": null,
            "overflow": null,
            "overflow_x": null,
            "overflow_y": null,
            "padding": null,
            "right": null,
            "top": null,
            "visibility": null,
            "width": null
          }
        },
        "4dfec16799ae4d44b165c12b49d46aab": {
          "model_module": "@jupyter-widgets/controls",
          "model_name": "DescriptionStyleModel",
          "model_module_version": "1.5.0",
          "state": {
            "_model_module": "@jupyter-widgets/controls",
            "_model_module_version": "1.5.0",
            "_model_name": "DescriptionStyleModel",
            "_view_count": null,
            "_view_module": "@jupyter-widgets/base",
            "_view_module_version": "1.2.0",
            "_view_name": "StyleView",
            "description_width": ""
          }
        },
        "ba9d166ab1ae4f0cb81d20e2b4c50bd5": {
          "model_module": "@jupyter-widgets/base",
          "model_name": "LayoutModel",
          "model_module_version": "1.2.0",
          "state": {
            "_model_module": "@jupyter-widgets/base",
            "_model_module_version": "1.2.0",
            "_model_name": "LayoutModel",
            "_view_count": null,
            "_view_module": "@jupyter-widgets/base",
            "_view_module_version": "1.2.0",
            "_view_name": "LayoutView",
            "align_content": null,
            "align_items": null,
            "align_self": null,
            "border": null,
            "bottom": null,
            "display": null,
            "flex": null,
            "flex_flow": null,
            "grid_area": null,
            "grid_auto_columns": null,
            "grid_auto_flow": null,
            "grid_auto_rows": null,
            "grid_column": null,
            "grid_gap": null,
            "grid_row": null,
            "grid_template_areas": null,
            "grid_template_columns": null,
            "grid_template_rows": null,
            "height": null,
            "justify_content": null,
            "justify_items": null,
            "left": null,
            "margin": null,
            "max_height": null,
            "max_width": null,
            "min_height": null,
            "min_width": null,
            "object_fit": null,
            "object_position": null,
            "order": null,
            "overflow": null,
            "overflow_x": null,
            "overflow_y": null,
            "padding": null,
            "right": null,
            "top": null,
            "visibility": null,
            "width": null
          }
        },
        "909071488b074db2bd075a90f58eb8b2": {
          "model_module": "@jupyter-widgets/controls",
          "model_name": "ProgressStyleModel",
          "model_module_version": "1.5.0",
          "state": {
            "_model_module": "@jupyter-widgets/controls",
            "_model_module_version": "1.5.0",
            "_model_name": "ProgressStyleModel",
            "_view_count": null,
            "_view_module": "@jupyter-widgets/base",
            "_view_module_version": "1.2.0",
            "_view_name": "StyleView",
            "bar_color": null,
            "description_width": ""
          }
        },
        "d6e71eeb82f349e3a60440766558538c": {
          "model_module": "@jupyter-widgets/base",
          "model_name": "LayoutModel",
          "model_module_version": "1.2.0",
          "state": {
            "_model_module": "@jupyter-widgets/base",
            "_model_module_version": "1.2.0",
            "_model_name": "LayoutModel",
            "_view_count": null,
            "_view_module": "@jupyter-widgets/base",
            "_view_module_version": "1.2.0",
            "_view_name": "LayoutView",
            "align_content": null,
            "align_items": null,
            "align_self": null,
            "border": null,
            "bottom": null,
            "display": null,
            "flex": null,
            "flex_flow": null,
            "grid_area": null,
            "grid_auto_columns": null,
            "grid_auto_flow": null,
            "grid_auto_rows": null,
            "grid_column": null,
            "grid_gap": null,
            "grid_row": null,
            "grid_template_areas": null,
            "grid_template_columns": null,
            "grid_template_rows": null,
            "height": null,
            "justify_content": null,
            "justify_items": null,
            "left": null,
            "margin": null,
            "max_height": null,
            "max_width": null,
            "min_height": null,
            "min_width": null,
            "object_fit": null,
            "object_position": null,
            "order": null,
            "overflow": null,
            "overflow_x": null,
            "overflow_y": null,
            "padding": null,
            "right": null,
            "top": null,
            "visibility": null,
            "width": null
          }
        },
        "6d7f51efbf2246519e61d8ebf9db579c": {
          "model_module": "@jupyter-widgets/controls",
          "model_name": "DescriptionStyleModel",
          "model_module_version": "1.5.0",
          "state": {
            "_model_module": "@jupyter-widgets/controls",
            "_model_module_version": "1.5.0",
            "_model_name": "DescriptionStyleModel",
            "_view_count": null,
            "_view_module": "@jupyter-widgets/base",
            "_view_module_version": "1.2.0",
            "_view_name": "StyleView",
            "description_width": ""
          }
        },
        "ebdaefd2ff38453088b2625d0f3e5686": {
          "model_module": "@jupyter-widgets/controls",
          "model_name": "HBoxModel",
          "model_module_version": "1.5.0",
          "state": {
            "_dom_classes": [],
            "_model_module": "@jupyter-widgets/controls",
            "_model_module_version": "1.5.0",
            "_model_name": "HBoxModel",
            "_view_count": null,
            "_view_module": "@jupyter-widgets/controls",
            "_view_module_version": "1.5.0",
            "_view_name": "HBoxView",
            "box_style": "",
            "children": [
              "IPY_MODEL_9a8f8506c84643d184d196e4bd6cb553",
              "IPY_MODEL_8f9f5e62ef804e4fb842aec80607ea6d",
              "IPY_MODEL_7c75fa389ead44bd93e903a9511992f4"
            ],
            "layout": "IPY_MODEL_5842c571764a48a6ba505f7e2e1989a3"
          }
        },
        "9a8f8506c84643d184d196e4bd6cb553": {
          "model_module": "@jupyter-widgets/controls",
          "model_name": "HTMLModel",
          "model_module_version": "1.5.0",
          "state": {
            "_dom_classes": [],
            "_model_module": "@jupyter-widgets/controls",
            "_model_module_version": "1.5.0",
            "_model_name": "HTMLModel",
            "_view_count": null,
            "_view_module": "@jupyter-widgets/controls",
            "_view_module_version": "1.5.0",
            "_view_name": "HTMLView",
            "description": "",
            "description_tooltip": null,
            "layout": "IPY_MODEL_d1d1efd12e5d4acf9a12e133d71410d7",
            "placeholder": "​",
            "style": "IPY_MODEL_b133ec9d7ab042aa931ec25b00bdfd0a",
            "value": "Map: 100%"
          }
        },
        "8f9f5e62ef804e4fb842aec80607ea6d": {
          "model_module": "@jupyter-widgets/controls",
          "model_name": "FloatProgressModel",
          "model_module_version": "1.5.0",
          "state": {
            "_dom_classes": [],
            "_model_module": "@jupyter-widgets/controls",
            "_model_module_version": "1.5.0",
            "_model_name": "FloatProgressModel",
            "_view_count": null,
            "_view_module": "@jupyter-widgets/controls",
            "_view_module_version": "1.5.0",
            "_view_name": "ProgressView",
            "bar_style": "success",
            "description": "",
            "description_tooltip": null,
            "layout": "IPY_MODEL_6c04795d688a47cfb1ce908b831f6cbf",
            "max": 3976,
            "min": 0,
            "orientation": "horizontal",
            "style": "IPY_MODEL_1959e8eed0014ee583e99b51c1600c8a",
            "value": 3976
          }
        },
        "7c75fa389ead44bd93e903a9511992f4": {
          "model_module": "@jupyter-widgets/controls",
          "model_name": "HTMLModel",
          "model_module_version": "1.5.0",
          "state": {
            "_dom_classes": [],
            "_model_module": "@jupyter-widgets/controls",
            "_model_module_version": "1.5.0",
            "_model_name": "HTMLModel",
            "_view_count": null,
            "_view_module": "@jupyter-widgets/controls",
            "_view_module_version": "1.5.0",
            "_view_name": "HTMLView",
            "description": "",
            "description_tooltip": null,
            "layout": "IPY_MODEL_58873ab7fe2b4e6ca313e8c492081a0e",
            "placeholder": "​",
            "style": "IPY_MODEL_6fdb391b21824290bb41a93a65459b01",
            "value": " 3976/3976 [00:02&lt;00:00, 1317.69 examples/s]"
          }
        },
        "5842c571764a48a6ba505f7e2e1989a3": {
          "model_module": "@jupyter-widgets/base",
          "model_name": "LayoutModel",
          "model_module_version": "1.2.0",
          "state": {
            "_model_module": "@jupyter-widgets/base",
            "_model_module_version": "1.2.0",
            "_model_name": "LayoutModel",
            "_view_count": null,
            "_view_module": "@jupyter-widgets/base",
            "_view_module_version": "1.2.0",
            "_view_name": "LayoutView",
            "align_content": null,
            "align_items": null,
            "align_self": null,
            "border": null,
            "bottom": null,
            "display": null,
            "flex": null,
            "flex_flow": null,
            "grid_area": null,
            "grid_auto_columns": null,
            "grid_auto_flow": null,
            "grid_auto_rows": null,
            "grid_column": null,
            "grid_gap": null,
            "grid_row": null,
            "grid_template_areas": null,
            "grid_template_columns": null,
            "grid_template_rows": null,
            "height": null,
            "justify_content": null,
            "justify_items": null,
            "left": null,
            "margin": null,
            "max_height": null,
            "max_width": null,
            "min_height": null,
            "min_width": null,
            "object_fit": null,
            "object_position": null,
            "order": null,
            "overflow": null,
            "overflow_x": null,
            "overflow_y": null,
            "padding": null,
            "right": null,
            "top": null,
            "visibility": null,
            "width": null
          }
        },
        "d1d1efd12e5d4acf9a12e133d71410d7": {
          "model_module": "@jupyter-widgets/base",
          "model_name": "LayoutModel",
          "model_module_version": "1.2.0",
          "state": {
            "_model_module": "@jupyter-widgets/base",
            "_model_module_version": "1.2.0",
            "_model_name": "LayoutModel",
            "_view_count": null,
            "_view_module": "@jupyter-widgets/base",
            "_view_module_version": "1.2.0",
            "_view_name": "LayoutView",
            "align_content": null,
            "align_items": null,
            "align_self": null,
            "border": null,
            "bottom": null,
            "display": null,
            "flex": null,
            "flex_flow": null,
            "grid_area": null,
            "grid_auto_columns": null,
            "grid_auto_flow": null,
            "grid_auto_rows": null,
            "grid_column": null,
            "grid_gap": null,
            "grid_row": null,
            "grid_template_areas": null,
            "grid_template_columns": null,
            "grid_template_rows": null,
            "height": null,
            "justify_content": null,
            "justify_items": null,
            "left": null,
            "margin": null,
            "max_height": null,
            "max_width": null,
            "min_height": null,
            "min_width": null,
            "object_fit": null,
            "object_position": null,
            "order": null,
            "overflow": null,
            "overflow_x": null,
            "overflow_y": null,
            "padding": null,
            "right": null,
            "top": null,
            "visibility": null,
            "width": null
          }
        },
        "b133ec9d7ab042aa931ec25b00bdfd0a": {
          "model_module": "@jupyter-widgets/controls",
          "model_name": "DescriptionStyleModel",
          "model_module_version": "1.5.0",
          "state": {
            "_model_module": "@jupyter-widgets/controls",
            "_model_module_version": "1.5.0",
            "_model_name": "DescriptionStyleModel",
            "_view_count": null,
            "_view_module": "@jupyter-widgets/base",
            "_view_module_version": "1.2.0",
            "_view_name": "StyleView",
            "description_width": ""
          }
        },
        "6c04795d688a47cfb1ce908b831f6cbf": {
          "model_module": "@jupyter-widgets/base",
          "model_name": "LayoutModel",
          "model_module_version": "1.2.0",
          "state": {
            "_model_module": "@jupyter-widgets/base",
            "_model_module_version": "1.2.0",
            "_model_name": "LayoutModel",
            "_view_count": null,
            "_view_module": "@jupyter-widgets/base",
            "_view_module_version": "1.2.0",
            "_view_name": "LayoutView",
            "align_content": null,
            "align_items": null,
            "align_self": null,
            "border": null,
            "bottom": null,
            "display": null,
            "flex": null,
            "flex_flow": null,
            "grid_area": null,
            "grid_auto_columns": null,
            "grid_auto_flow": null,
            "grid_auto_rows": null,
            "grid_column": null,
            "grid_gap": null,
            "grid_row": null,
            "grid_template_areas": null,
            "grid_template_columns": null,
            "grid_template_rows": null,
            "height": null,
            "justify_content": null,
            "justify_items": null,
            "left": null,
            "margin": null,
            "max_height": null,
            "max_width": null,
            "min_height": null,
            "min_width": null,
            "object_fit": null,
            "object_position": null,
            "order": null,
            "overflow": null,
            "overflow_x": null,
            "overflow_y": null,
            "padding": null,
            "right": null,
            "top": null,
            "visibility": null,
            "width": null
          }
        },
        "1959e8eed0014ee583e99b51c1600c8a": {
          "model_module": "@jupyter-widgets/controls",
          "model_name": "ProgressStyleModel",
          "model_module_version": "1.5.0",
          "state": {
            "_model_module": "@jupyter-widgets/controls",
            "_model_module_version": "1.5.0",
            "_model_name": "ProgressStyleModel",
            "_view_count": null,
            "_view_module": "@jupyter-widgets/base",
            "_view_module_version": "1.2.0",
            "_view_name": "StyleView",
            "bar_color": null,
            "description_width": ""
          }
        },
        "58873ab7fe2b4e6ca313e8c492081a0e": {
          "model_module": "@jupyter-widgets/base",
          "model_name": "LayoutModel",
          "model_module_version": "1.2.0",
          "state": {
            "_model_module": "@jupyter-widgets/base",
            "_model_module_version": "1.2.0",
            "_model_name": "LayoutModel",
            "_view_count": null,
            "_view_module": "@jupyter-widgets/base",
            "_view_module_version": "1.2.0",
            "_view_name": "LayoutView",
            "align_content": null,
            "align_items": null,
            "align_self": null,
            "border": null,
            "bottom": null,
            "display": null,
            "flex": null,
            "flex_flow": null,
            "grid_area": null,
            "grid_auto_columns": null,
            "grid_auto_flow": null,
            "grid_auto_rows": null,
            "grid_column": null,
            "grid_gap": null,
            "grid_row": null,
            "grid_template_areas": null,
            "grid_template_columns": null,
            "grid_template_rows": null,
            "height": null,
            "justify_content": null,
            "justify_items": null,
            "left": null,
            "margin": null,
            "max_height": null,
            "max_width": null,
            "min_height": null,
            "min_width": null,
            "object_fit": null,
            "object_position": null,
            "order": null,
            "overflow": null,
            "overflow_x": null,
            "overflow_y": null,
            "padding": null,
            "right": null,
            "top": null,
            "visibility": null,
            "width": null
          }
        },
        "6fdb391b21824290bb41a93a65459b01": {
          "model_module": "@jupyter-widgets/controls",
          "model_name": "DescriptionStyleModel",
          "model_module_version": "1.5.0",
          "state": {
            "_model_module": "@jupyter-widgets/controls",
            "_model_module_version": "1.5.0",
            "_model_name": "DescriptionStyleModel",
            "_view_count": null,
            "_view_module": "@jupyter-widgets/base",
            "_view_module_version": "1.2.0",
            "_view_name": "StyleView",
            "description_width": ""
          }
        }
      }
    },
    "pycharm": {
      "stem_cell": {
        "cell_type": "raw",
        "source": [],
        "metadata": {
          "collapsed": false
        }
      }
    }
  },
  "nbformat_minor": 0,
  "nbformat": 4,
  "cells": [
    {
      "cell_type": "code",
      "source": [
        "!pip install -U adapter-transformers\n",
        "!pip install datasets"
      ],
      "metadata": {
        "colab": {
          "base_uri": "https://localhost:8080/"
        },
        "id": "ju-alwbHmKYA",
        "outputId": "4104f3f8-0f82-4772-e9b8-9bc6e66e4d48",
        "pycharm": {
          "is_executing": false
        },
        "execution": {
          "iopub.status.busy": "2023-08-14T12:59:00.475316Z",
          "iopub.execute_input": "2023-08-14T12:59:00.475830Z",
          "iopub.status.idle": "2023-08-14T12:59:31.984675Z",
          "shell.execute_reply.started": "2023-08-14T12:59:00.475790Z",
          "shell.execute_reply": "2023-08-14T12:59:31.983475Z"
        },
        "trusted": true
      },
      "execution_count": null,
      "outputs": [
        {
          "output_type": "stream",
          "name": "stdout",
          "text": [
            "Requirement already satisfied: adapter-transformers in /usr/local/lib/python3.10/dist-packages (3.2.1)\n",
            "Requirement already satisfied: filelock in /usr/local/lib/python3.10/dist-packages (from adapter-transformers) (3.12.2)\n",
            "Requirement already satisfied: huggingface-hub<1.0,>=0.11.0 in /usr/local/lib/python3.10/dist-packages (from adapter-transformers) (0.16.4)\n",
            "Requirement already satisfied: numpy>=1.17 in /usr/local/lib/python3.10/dist-packages (from adapter-transformers) (1.23.5)\n",
            "Requirement already satisfied: packaging>=20.0 in /usr/local/lib/python3.10/dist-packages (from adapter-transformers) (23.1)\n",
            "Requirement already satisfied: pyyaml>=5.1 in /usr/local/lib/python3.10/dist-packages (from adapter-transformers) (6.0.1)\n",
            "Requirement already satisfied: regex!=2019.12.17 in /usr/local/lib/python3.10/dist-packages (from adapter-transformers) (2023.6.3)\n",
            "Requirement already satisfied: requests in /usr/local/lib/python3.10/dist-packages (from adapter-transformers) (2.31.0)\n",
            "Requirement already satisfied: tokenizers!=0.11.3,<0.14,>=0.11.1 in /usr/local/lib/python3.10/dist-packages (from adapter-transformers) (0.13.3)\n",
            "Requirement already satisfied: tqdm>=4.27 in /usr/local/lib/python3.10/dist-packages (from adapter-transformers) (4.66.0)\n",
            "Requirement already satisfied: fsspec in /usr/local/lib/python3.10/dist-packages (from huggingface-hub<1.0,>=0.11.0->adapter-transformers) (2023.6.0)\n",
            "Requirement already satisfied: typing-extensions>=3.7.4.3 in /usr/local/lib/python3.10/dist-packages (from huggingface-hub<1.0,>=0.11.0->adapter-transformers) (4.7.1)\n",
            "Requirement already satisfied: charset-normalizer<4,>=2 in /usr/local/lib/python3.10/dist-packages (from requests->adapter-transformers) (3.2.0)\n",
            "Requirement already satisfied: idna<4,>=2.5 in /usr/local/lib/python3.10/dist-packages (from requests->adapter-transformers) (3.4)\n",
            "Requirement already satisfied: urllib3<3,>=1.21.1 in /usr/local/lib/python3.10/dist-packages (from requests->adapter-transformers) (2.0.4)\n",
            "Requirement already satisfied: certifi>=2017.4.17 in /usr/local/lib/python3.10/dist-packages (from requests->adapter-transformers) (2023.7.22)\n",
            "Requirement already satisfied: datasets in /usr/local/lib/python3.10/dist-packages (2.14.4)\n",
            "Requirement already satisfied: numpy>=1.17 in /usr/local/lib/python3.10/dist-packages (from datasets) (1.23.5)\n",
            "Requirement already satisfied: pyarrow>=8.0.0 in /usr/local/lib/python3.10/dist-packages (from datasets) (9.0.0)\n",
            "Requirement already satisfied: dill<0.3.8,>=0.3.0 in /usr/local/lib/python3.10/dist-packages (from datasets) (0.3.7)\n",
            "Requirement already satisfied: pandas in /usr/local/lib/python3.10/dist-packages (from datasets) (1.5.3)\n",
            "Requirement already satisfied: requests>=2.19.0 in /usr/local/lib/python3.10/dist-packages (from datasets) (2.31.0)\n",
            "Requirement already satisfied: tqdm>=4.62.1 in /usr/local/lib/python3.10/dist-packages (from datasets) (4.66.0)\n",
            "Requirement already satisfied: xxhash in /usr/local/lib/python3.10/dist-packages (from datasets) (3.3.0)\n",
            "Requirement already satisfied: multiprocess in /usr/local/lib/python3.10/dist-packages (from datasets) (0.70.15)\n",
            "Requirement already satisfied: fsspec[http]>=2021.11.1 in /usr/local/lib/python3.10/dist-packages (from datasets) (2023.6.0)\n",
            "Requirement already satisfied: aiohttp in /usr/local/lib/python3.10/dist-packages (from datasets) (3.8.5)\n",
            "Requirement already satisfied: huggingface-hub<1.0.0,>=0.14.0 in /usr/local/lib/python3.10/dist-packages (from datasets) (0.16.4)\n",
            "Requirement already satisfied: packaging in /usr/local/lib/python3.10/dist-packages (from datasets) (23.1)\n",
            "Requirement already satisfied: pyyaml>=5.1 in /usr/local/lib/python3.10/dist-packages (from datasets) (6.0.1)\n",
            "Requirement already satisfied: attrs>=17.3.0 in /usr/local/lib/python3.10/dist-packages (from aiohttp->datasets) (23.1.0)\n",
            "Requirement already satisfied: charset-normalizer<4.0,>=2.0 in /usr/local/lib/python3.10/dist-packages (from aiohttp->datasets) (3.2.0)\n",
            "Requirement already satisfied: multidict<7.0,>=4.5 in /usr/local/lib/python3.10/dist-packages (from aiohttp->datasets) (6.0.4)\n",
            "Requirement already satisfied: async-timeout<5.0,>=4.0.0a3 in /usr/local/lib/python3.10/dist-packages (from aiohttp->datasets) (4.0.2)\n",
            "Requirement already satisfied: yarl<2.0,>=1.0 in /usr/local/lib/python3.10/dist-packages (from aiohttp->datasets) (1.9.2)\n",
            "Requirement already satisfied: frozenlist>=1.1.1 in /usr/local/lib/python3.10/dist-packages (from aiohttp->datasets) (1.4.0)\n",
            "Requirement already satisfied: aiosignal>=1.1.2 in /usr/local/lib/python3.10/dist-packages (from aiohttp->datasets) (1.3.1)\n",
            "Requirement already satisfied: filelock in /usr/local/lib/python3.10/dist-packages (from huggingface-hub<1.0.0,>=0.14.0->datasets) (3.12.2)\n",
            "Requirement already satisfied: typing-extensions>=3.7.4.3 in /usr/local/lib/python3.10/dist-packages (from huggingface-hub<1.0.0,>=0.14.0->datasets) (4.7.1)\n",
            "Requirement already satisfied: idna<4,>=2.5 in /usr/local/lib/python3.10/dist-packages (from requests>=2.19.0->datasets) (3.4)\n",
            "Requirement already satisfied: urllib3<3,>=1.21.1 in /usr/local/lib/python3.10/dist-packages (from requests>=2.19.0->datasets) (2.0.4)\n",
            "Requirement already satisfied: certifi>=2017.4.17 in /usr/local/lib/python3.10/dist-packages (from requests>=2.19.0->datasets) (2023.7.22)\n",
            "Requirement already satisfied: python-dateutil>=2.8.1 in /usr/local/lib/python3.10/dist-packages (from pandas->datasets) (2.8.2)\n",
            "Requirement already satisfied: pytz>=2020.1 in /usr/local/lib/python3.10/dist-packages (from pandas->datasets) (2023.3)\n",
            "Requirement already satisfied: six>=1.5 in /usr/local/lib/python3.10/dist-packages (from python-dateutil>=2.8.1->pandas->datasets) (1.16.0)\n"
          ]
        }
      ]
    },
    {
      "cell_type": "code",
      "source": [
        "import numpy as np\n",
        "import pandas as pd\n",
        "import re\n",
        "import torch\n",
        "from transformers import BertTokenizer, get_linear_schedule_with_warmup, BertForSequenceClassification, BertConfig\n",
        "from transformers import RobertaTokenizer, RobertaConfig, RobertaModelWithHeads\n",
        "from torch.utils.data import DataLoader, RandomSampler, SequentialSampler, TensorDataset, random_split\n",
        "import time\n",
        "import datetime\n",
        "import random\n",
        "import datasets\n",
        "from datasets import load_dataset, Dataset, DatasetDict\n",
        "from sklearn.model_selection import train_test_split"
      ],
      "metadata": {
        "execution": {
          "iopub.status.busy": "2023-08-14T12:59:31.988277Z",
          "iopub.execute_input": "2023-08-14T12:59:31.988735Z",
          "iopub.status.idle": "2023-08-14T12:59:31.997109Z",
          "shell.execute_reply.started": "2023-08-14T12:59:31.988666Z",
          "shell.execute_reply": "2023-08-14T12:59:31.995794Z"
        },
        "trusted": true,
        "id": "aEllW2g9SsFm"
      },
      "execution_count": null,
      "outputs": []
    },
    {
      "cell_type": "code",
      "source": [
        "from google.colab import drive\n",
        "drive.mount('/content/drive')"
      ],
      "metadata": {
        "colab": {
          "base_uri": "https://localhost:8080/"
        },
        "id": "QoBiTCiqRSP1",
        "outputId": "eb37b74a-d859-41eb-fbc5-a93cea19b20c"
      },
      "execution_count": null,
      "outputs": [
        {
          "output_type": "stream",
          "name": "stdout",
          "text": [
            "Drive already mounted at /content/drive; to attempt to forcibly remount, call drive.mount(\"/content/drive\", force_remount=True).\n"
          ]
        }
      ]
    },
    {
      "cell_type": "code",
      "source": [
        "# Data Preparing\n",
        "\n",
        "dataset = load_dataset(\"humarin/chatgpt-paraphrases\")\n",
        "\n",
        "# 將資料分成0和1\n",
        "category={}\n",
        "# for i in range(len(data)):\n",
        "for i in range(0, 20000):\n",
        "#     chatgpt=data.iloc[i][\"paraphrases\"][:].split(', ')\n",
        "#     for j in chatgpt:\n",
        "#         category[j[1:-1]]='chatgpt'\n",
        "    category[dataset['train'][i][\"paraphrases\"][:].split(', ')[0][2:-1]]=1\n",
        "    category[dataset['train'][i]['text']]=0\n",
        "    # category[dataset.iloc(i)[\"paraphrases\"][:].split(', ')[0][2:-1]]=1\n",
        "    # category[dataset.iloc(i)['text']]=0\n",
        "\n",
        "data=pd.DataFrame(category.items(),columns=[\"text\",\"label\"])\n",
        "data=data.sample(frac=1)\n",
        "\n",
        "print(data[\"label\"].value_counts())\n"
      ],
      "metadata": {
        "execution": {
          "iopub.status.busy": "2023-08-14T12:59:32.015622Z",
          "iopub.execute_input": "2023-08-14T12:59:32.016214Z",
          "iopub.status.idle": "2023-08-14T12:59:38.749441Z",
          "shell.execute_reply.started": "2023-08-14T12:59:32.016177Z",
          "shell.execute_reply": "2023-08-14T12:59:38.748171Z"
        },
        "trusted": true,
        "colab": {
          "base_uri": "https://localhost:8080/"
        },
        "id": "kk6gXwoZSsFn",
        "outputId": "0f32242f-5d10-4f77-a311-e67f7b4f5c82"
      },
      "execution_count": null,
      "outputs": [
        {
          "output_type": "stream",
          "name": "stdout",
          "text": [
            "0    19998\n",
            "1    19757\n",
            "Name: label, dtype: int64\n"
          ]
        }
      ]
    },
    {
      "cell_type": "code",
      "source": [
        "# for i in range(0,10):\n",
        "#   print(data.values[i])"
      ],
      "metadata": {
        "id": "Su_SOWxjNnnU"
      },
      "execution_count": null,
      "outputs": []
    },
    {
      "cell_type": "code",
      "source": [
        "# train_size = int(0.9 * len(data))\n",
        "# val_size = len(data) - train_size\n",
        "\n",
        "\n",
        "train_df, validation_df = train_test_split(data, test_size=0.1)\n",
        "\n",
        "train_dataset = Dataset.from_dict(train_df)\n",
        "validation_dataset = Dataset.from_dict(validation_df)\n",
        "dataset = datasets.DatasetDict({\"train\":train_dataset,\"validation\":validation_dataset})\n",
        "# print(dataset)"
      ],
      "metadata": {
        "id": "9yDwtSCWj8Aj"
      },
      "execution_count": null,
      "outputs": []
    },
    {
      "cell_type": "code",
      "source": [
        "tokenizer = RobertaTokenizer.from_pretrained(\"roberta-base\")\n",
        "\n",
        "def encode_batch(batch):\n",
        "  \"\"\"Encodes a batch of input data using the model tokenizer.\"\"\"\n",
        "  return tokenizer(batch[\"text\"], max_length=80, truncation=True, padding=\"max_length\")\n",
        "\n",
        "# Encode the input data\n",
        "dataset = dataset.map(encode_batch, batched=True)\n",
        "# The transformers model expects the target class column to be named \"labels\"\n",
        "dataset = dataset.rename_column(\"label\", \"labels\")\n",
        "# Transform to pytorch tensors and only output the required columns\n",
        "dataset.set_format(type=\"torch\", columns=[\"input_ids\", \"attention_mask\", \"labels\"])"
      ],
      "metadata": {
        "colab": {
          "base_uri": "https://localhost:8080/",
          "height": 674,
          "referenced_widgets": [
            "6e7e129ddb274f4fb3bf0660df5cbb29",
            "b03b88459bb040908599e18d3d9282b5",
            "6b048941825443e498ee82a6d5664e05",
            "bf370c21e46e4fe0bfee70cc951a2873",
            "3ee81cf04f84487f841ad2b93c165ced",
            "1f6fc65e6da947af926ba62797a64799",
            "4dfec16799ae4d44b165c12b49d46aab",
            "ba9d166ab1ae4f0cb81d20e2b4c50bd5",
            "909071488b074db2bd075a90f58eb8b2",
            "d6e71eeb82f349e3a60440766558538c",
            "6d7f51efbf2246519e61d8ebf9db579c",
            "ebdaefd2ff38453088b2625d0f3e5686",
            "9a8f8506c84643d184d196e4bd6cb553",
            "8f9f5e62ef804e4fb842aec80607ea6d",
            "7c75fa389ead44bd93e903a9511992f4",
            "5842c571764a48a6ba505f7e2e1989a3",
            "d1d1efd12e5d4acf9a12e133d71410d7",
            "b133ec9d7ab042aa931ec25b00bdfd0a",
            "6c04795d688a47cfb1ce908b831f6cbf",
            "1959e8eed0014ee583e99b51c1600c8a",
            "58873ab7fe2b4e6ca313e8c492081a0e",
            "6fdb391b21824290bb41a93a65459b01"
          ]
        },
        "id": "q4nox5BQaKrL",
        "outputId": "8d61da3d-1435-496a-89ec-258a0bf420c4"
      },
      "execution_count": null,
      "outputs": [
        {
          "output_type": "stream",
          "name": "stderr",
          "text": [
            "loading file vocab.json from cache at /root/.cache/huggingface/hub/models--roberta-base/snapshots/bc2764f8af2e92b6eb5679868df33e224075ca68/vocab.json\n",
            "loading file merges.txt from cache at /root/.cache/huggingface/hub/models--roberta-base/snapshots/bc2764f8af2e92b6eb5679868df33e224075ca68/merges.txt\n",
            "loading file added_tokens.json from cache at None\n",
            "loading file special_tokens_map.json from cache at None\n",
            "loading file tokenizer_config.json from cache at None\n",
            "loading configuration file config.json from cache at /root/.cache/huggingface/hub/models--roberta-base/snapshots/bc2764f8af2e92b6eb5679868df33e224075ca68/config.json\n",
            "Model config RobertaConfig {\n",
            "  \"_name_or_path\": \"roberta-base\",\n",
            "  \"architectures\": [\n",
            "    \"RobertaForMaskedLM\"\n",
            "  ],\n",
            "  \"attention_probs_dropout_prob\": 0.1,\n",
            "  \"bos_token_id\": 0,\n",
            "  \"classifier_dropout\": null,\n",
            "  \"eos_token_id\": 2,\n",
            "  \"hidden_act\": \"gelu\",\n",
            "  \"hidden_dropout_prob\": 0.1,\n",
            "  \"hidden_size\": 768,\n",
            "  \"initializer_range\": 0.02,\n",
            "  \"intermediate_size\": 3072,\n",
            "  \"layer_norm_eps\": 1e-05,\n",
            "  \"max_position_embeddings\": 514,\n",
            "  \"model_type\": \"roberta\",\n",
            "  \"num_attention_heads\": 12,\n",
            "  \"num_hidden_layers\": 12,\n",
            "  \"pad_token_id\": 1,\n",
            "  \"position_embedding_type\": \"absolute\",\n",
            "  \"transformers_version\": \"4.26.1\",\n",
            "  \"type_vocab_size\": 1,\n",
            "  \"use_cache\": true,\n",
            "  \"vocab_size\": 50265\n",
            "}\n",
            "\n"
          ]
        },
        {
          "output_type": "display_data",
          "data": {
            "text/plain": [
              "Map:   0%|          | 0/35779 [00:00<?, ? examples/s]"
            ],
            "application/vnd.jupyter.widget-view+json": {
              "version_major": 2,
              "version_minor": 0,
              "model_id": "6e7e129ddb274f4fb3bf0660df5cbb29"
            }
          },
          "metadata": {}
        },
        {
          "output_type": "display_data",
          "data": {
            "text/plain": [
              "Map:   0%|          | 0/3976 [00:00<?, ? examples/s]"
            ],
            "application/vnd.jupyter.widget-view+json": {
              "version_major": 2,
              "version_minor": 0,
              "model_id": "ebdaefd2ff38453088b2625d0f3e5686"
            }
          },
          "metadata": {}
        }
      ]
    },
    {
      "cell_type": "code",
      "source": [
        "# train\n",
        "config = RobertaConfig.from_pretrained(\n",
        "    \"roberta-base\",\n",
        "    num_labels=2,\n",
        ")\n",
        "model = RobertaModelWithHeads.from_pretrained(\n",
        "    \"roberta-base\",\n",
        "    config=config,\n",
        ")"
      ],
      "metadata": {
        "execution": {
          "iopub.status.busy": "2023-08-14T13:00:11.335547Z",
          "iopub.execute_input": "2023-08-14T13:00:11.336052Z",
          "iopub.status.idle": "2023-08-14T13:00:13.126455Z",
          "shell.execute_reply.started": "2023-08-14T13:00:11.336015Z",
          "shell.execute_reply": "2023-08-14T13:00:13.124800Z"
        },
        "trusted": true,
        "colab": {
          "base_uri": "https://localhost:8080/"
        },
        "id": "FCILNXFbSsFp",
        "outputId": "3e38e9a1-510e-45a3-bdf6-5b48ca1f12ab"
      },
      "execution_count": null,
      "outputs": [
        {
          "output_type": "stream",
          "name": "stderr",
          "text": [
            "loading configuration file config.json from cache at /root/.cache/huggingface/hub/models--roberta-base/snapshots/bc2764f8af2e92b6eb5679868df33e224075ca68/config.json\n",
            "Model config RobertaConfig {\n",
            "  \"architectures\": [\n",
            "    \"RobertaForMaskedLM\"\n",
            "  ],\n",
            "  \"attention_probs_dropout_prob\": 0.1,\n",
            "  \"bos_token_id\": 0,\n",
            "  \"classifier_dropout\": null,\n",
            "  \"eos_token_id\": 2,\n",
            "  \"hidden_act\": \"gelu\",\n",
            "  \"hidden_dropout_prob\": 0.1,\n",
            "  \"hidden_size\": 768,\n",
            "  \"initializer_range\": 0.02,\n",
            "  \"intermediate_size\": 3072,\n",
            "  \"layer_norm_eps\": 1e-05,\n",
            "  \"max_position_embeddings\": 514,\n",
            "  \"model_type\": \"roberta\",\n",
            "  \"num_attention_heads\": 12,\n",
            "  \"num_hidden_layers\": 12,\n",
            "  \"pad_token_id\": 1,\n",
            "  \"position_embedding_type\": \"absolute\",\n",
            "  \"transformers_version\": \"4.26.1\",\n",
            "  \"type_vocab_size\": 1,\n",
            "  \"use_cache\": true,\n",
            "  \"vocab_size\": 50265\n",
            "}\n",
            "\n",
            "/usr/local/lib/python3.10/dist-packages/transformers/adapters/models/roberta/adapter_model.py:274: FutureWarning: This class has been renamed to `RobertaAdapterModel` in v3. Please use the new class instead as this class might be removed in a future version.\n",
            "  warnings.warn(\n",
            "loading weights file pytorch_model.bin from cache at /root/.cache/huggingface/hub/models--roberta-base/snapshots/bc2764f8af2e92b6eb5679868df33e224075ca68/pytorch_model.bin\n",
            "/usr/local/lib/python3.10/dist-packages/transformers/adapters/models/roberta/adapter_model.py:252: FutureWarning: This class has been renamed to `RobertaAdapterModel` in v3. Please use the new class instead as this class might be removed in a future version.\n",
            "  warnings.warn(\n",
            "Generate config GenerationConfig {\n",
            "  \"bos_token_id\": 0,\n",
            "  \"eos_token_id\": 2,\n",
            "  \"pad_token_id\": 1,\n",
            "  \"transformers_version\": \"4.26.1\"\n",
            "}\n",
            "\n",
            "Some weights of the model checkpoint at roberta-base were not used when initializing RobertaModelWithHeads: ['lm_head.layer_norm.bias', 'lm_head.bias', 'lm_head.decoder.weight', 'lm_head.layer_norm.weight', 'lm_head.dense.bias', 'lm_head.dense.weight']\n",
            "- This IS expected if you are initializing RobertaModelWithHeads from the checkpoint of a model trained on another task or with another architecture (e.g. initializing a BertForSequenceClassification model from a BertForPreTraining model).\n",
            "- This IS NOT expected if you are initializing RobertaModelWithHeads from the checkpoint of a model that you expect to be exactly identical (initializing a BertForSequenceClassification model from a BertForSequenceClassification model).\n",
            "Some weights of RobertaModelWithHeads were not initialized from the model checkpoint at roberta-base and are newly initialized: ['roberta.embeddings.position_ids']\n",
            "You should probably TRAIN this model on a down-stream task to be able to use it for predictions and inference.\n",
            "Generation config file not found, using a generation config created from the model config.\n"
          ]
        }
      ]
    },
    {
      "cell_type": "markdown",
      "source": [
        "Every dataset sample has an input text and a binary label:"
      ],
      "metadata": {
        "id": "UC-rOkx-DbVD"
      }
    },
    {
      "cell_type": "code",
      "source": [
        "# Add a new adapter\n",
        "model.add_adapter(\"rotten_tomatoes\")\n",
        "# Add a matching classification head\n",
        "model.add_classification_head(\n",
        "    \"rotten_tomatoes\",\n",
        "    num_labels=2\n",
        "  )\n",
        "# Activate the adapter\n",
        "model.train_adapter(\"rotten_tomatoes\")\n",
        "\n",
        "# model.cuda()"
      ],
      "metadata": {
        "execution": {
          "iopub.status.busy": "2023-08-14T13:00:13.136506Z",
          "iopub.execute_input": "2023-08-14T13:00:13.137791Z",
          "iopub.status.idle": "2023-08-14T13:00:13.212409Z",
          "shell.execute_reply.started": "2023-08-14T13:00:13.137749Z",
          "shell.execute_reply": "2023-08-14T13:00:13.210576Z"
        },
        "trusted": true,
        "colab": {
          "base_uri": "https://localhost:8080/"
        },
        "id": "Uc4hxPr4SsFp",
        "outputId": "0deb1b92-6147-41b0-ba8c-7a941cde2011"
      },
      "execution_count": null,
      "outputs": [
        {
          "output_type": "stream",
          "name": "stderr",
          "text": [
            "Adding adapter 'rotten_tomatoes'.\n",
            "Adding head 'rotten_tomatoes' with config {'head_type': 'classification', 'num_labels': 2, 'layers': 2, 'activation_function': 'tanh', 'label2id': {'LABEL_0': 0, 'LABEL_1': 1}, 'use_pooler': False, 'bias': True}.\n"
          ]
        }
      ]
    },
    {
      "cell_type": "code",
      "source": [
        "import numpy as np\n",
        "from transformers import TrainingArguments, AdapterTrainer, EvalPrediction\n",
        "\n",
        "training_args = TrainingArguments(\n",
        "    learning_rate=1e-4,\n",
        "    num_train_epochs=6,\n",
        "    per_device_train_batch_size=32,\n",
        "    per_device_eval_batch_size=32,\n",
        "    logging_steps=200,\n",
        "    output_dir=\"./drive/MyDrive/model\",\n",
        "    overwrite_output_dir=True,\n",
        "    # The next line is important to ensure the dataset labels are properly passed to the model\n",
        "    remove_unused_columns=False,\n",
        ")\n",
        "\n",
        "def compute_accuracy(p: EvalPrediction):\n",
        "  preds = np.argmax(p.predictions, axis=1)\n",
        "  return {\"acc\": (preds == p.label_ids).mean()}\n",
        "\n",
        "trainer = AdapterTrainer(\n",
        "    model=model,\n",
        "    args=training_args,\n",
        "    train_dataset=dataset[\"train\"],\n",
        "    eval_dataset=dataset[\"validation\"],\n",
        "    compute_metrics=compute_accuracy,\n",
        ")"
      ],
      "metadata": {
        "id": "5FRft_5AAlQd",
        "pycharm": {
          "is_executing": false
        },
        "execution": {
          "iopub.status.busy": "2023-08-14T13:00:13.264216Z",
          "iopub.execute_input": "2023-08-14T13:00:13.265241Z",
          "iopub.status.idle": "2023-08-14T13:00:13.293298Z",
          "shell.execute_reply.started": "2023-08-14T13:00:13.265192Z",
          "shell.execute_reply": "2023-08-14T13:00:13.292312Z"
        },
        "trusted": true,
        "colab": {
          "base_uri": "https://localhost:8080/"
        },
        "outputId": "c54a9bea-8640-44a9-c40e-3213793110e5"
      },
      "execution_count": null,
      "outputs": [
        {
          "output_type": "stream",
          "name": "stderr",
          "text": [
            "PyTorch: setting up devices\n",
            "The default value for the training argument `--report_to` will change in v5 (from all installed integrations to none). In v5, you will need to use `--report_to all` to get the same behavior as now. You should start updating your code and make this info disappear :-).\n"
          ]
        }
      ]
    },
    {
      "cell_type": "markdown",
      "source": [
        "Start the training 🚀"
      ],
      "metadata": {
        "id": "9iHhoYuLIdX3"
      }
    },
    {
      "cell_type": "code",
      "source": [
        "trainer.train()\n"
      ],
      "metadata": {
        "colab": {
          "base_uri": "https://localhost:8080/",
          "height": 1000
        },
        "id": "UcZMwiJ_KDdP",
        "outputId": "ac9110ee-74c8-4122-9afa-433b6247747c",
        "pycharm": {
          "is_executing": false
        },
        "execution": {
          "iopub.status.busy": "2023-08-14T13:00:13.294502Z",
          "iopub.execute_input": "2023-08-14T13:00:13.296060Z",
          "iopub.status.idle": "2023-08-14T13:00:14.498347Z",
          "shell.execute_reply.started": "2023-08-14T13:00:13.296015Z",
          "shell.execute_reply": "2023-08-14T13:00:14.496213Z"
        },
        "trusted": true
      },
      "execution_count": null,
      "outputs": [
        {
          "output_type": "stream",
          "name": "stderr",
          "text": [
            "/usr/local/lib/python3.10/dist-packages/transformers/optimization.py:306: FutureWarning: This implementation of AdamW is deprecated and will be removed in a future version. Use the PyTorch implementation torch.optim.AdamW instead, or set `no_deprecation_warning=True` to disable this warning\n",
            "  warnings.warn(\n",
            "***** Running training *****\n",
            "  Num examples = 35779\n",
            "  Num Epochs = 6\n",
            "  Instantaneous batch size per device = 32\n",
            "  Total train batch size (w. parallel, distributed & accumulation) = 32\n",
            "  Gradient Accumulation steps = 1\n",
            "  Total optimization steps = 6714\n",
            "  Number of trainable parameters = 1486658\n"
          ]
        },
        {
          "output_type": "display_data",
          "data": {
            "text/plain": [
              "<IPython.core.display.HTML object>"
            ],
            "text/html": [
              "\n",
              "    <div>\n",
              "      \n",
              "      <progress value='6714' max='6714' style='width:300px; height:20px; vertical-align: middle;'></progress>\n",
              "      [6714/6714 31:52, Epoch 6/6]\n",
              "    </div>\n",
              "    <table border=\"1\" class=\"dataframe\">\n",
              "  <thead>\n",
              " <tr style=\"text-align: left;\">\n",
              "      <th>Step</th>\n",
              "      <th>Training Loss</th>\n",
              "    </tr>\n",
              "  </thead>\n",
              "  <tbody>\n",
              "    <tr>\n",
              "      <td>200</td>\n",
              "      <td>0.584300</td>\n",
              "    </tr>\n",
              "    <tr>\n",
              "      <td>400</td>\n",
              "      <td>0.360200</td>\n",
              "    </tr>\n",
              "    <tr>\n",
              "      <td>600</td>\n",
              "      <td>0.342900</td>\n",
              "    </tr>\n",
              "    <tr>\n",
              "      <td>800</td>\n",
              "      <td>0.329400</td>\n",
              "    </tr>\n",
              "    <tr>\n",
              "      <td>1000</td>\n",
              "      <td>0.295800</td>\n",
              "    </tr>\n",
              "    <tr>\n",
              "      <td>1200</td>\n",
              "      <td>0.291800</td>\n",
              "    </tr>\n",
              "    <tr>\n",
              "      <td>1400</td>\n",
              "      <td>0.281200</td>\n",
              "    </tr>\n",
              "    <tr>\n",
              "      <td>1600</td>\n",
              "      <td>0.284800</td>\n",
              "    </tr>\n",
              "    <tr>\n",
              "      <td>1800</td>\n",
              "      <td>0.266700</td>\n",
              "    </tr>\n",
              "    <tr>\n",
              "      <td>2000</td>\n",
              "      <td>0.285400</td>\n",
              "    </tr>\n",
              "    <tr>\n",
              "      <td>2200</td>\n",
              "      <td>0.263800</td>\n",
              "    </tr>\n",
              "    <tr>\n",
              "      <td>2400</td>\n",
              "      <td>0.257400</td>\n",
              "    </tr>\n",
              "    <tr>\n",
              "      <td>2600</td>\n",
              "      <td>0.252500</td>\n",
              "    </tr>\n",
              "    <tr>\n",
              "      <td>2800</td>\n",
              "      <td>0.248100</td>\n",
              "    </tr>\n",
              "    <tr>\n",
              "      <td>3000</td>\n",
              "      <td>0.236300</td>\n",
              "    </tr>\n",
              "    <tr>\n",
              "      <td>3200</td>\n",
              "      <td>0.243900</td>\n",
              "    </tr>\n",
              "    <tr>\n",
              "      <td>3400</td>\n",
              "      <td>0.242600</td>\n",
              "    </tr>\n",
              "    <tr>\n",
              "      <td>3600</td>\n",
              "      <td>0.221600</td>\n",
              "    </tr>\n",
              "    <tr>\n",
              "      <td>3800</td>\n",
              "      <td>0.224500</td>\n",
              "    </tr>\n",
              "    <tr>\n",
              "      <td>4000</td>\n",
              "      <td>0.225900</td>\n",
              "    </tr>\n",
              "    <tr>\n",
              "      <td>4200</td>\n",
              "      <td>0.237400</td>\n",
              "    </tr>\n",
              "    <tr>\n",
              "      <td>4400</td>\n",
              "      <td>0.226700</td>\n",
              "    </tr>\n",
              "    <tr>\n",
              "      <td>4600</td>\n",
              "      <td>0.212500</td>\n",
              "    </tr>\n",
              "    <tr>\n",
              "      <td>4800</td>\n",
              "      <td>0.216900</td>\n",
              "    </tr>\n",
              "    <tr>\n",
              "      <td>5000</td>\n",
              "      <td>0.214200</td>\n",
              "    </tr>\n",
              "    <tr>\n",
              "      <td>5200</td>\n",
              "      <td>0.214300</td>\n",
              "    </tr>\n",
              "    <tr>\n",
              "      <td>5400</td>\n",
              "      <td>0.211500</td>\n",
              "    </tr>\n",
              "    <tr>\n",
              "      <td>5600</td>\n",
              "      <td>0.217500</td>\n",
              "    </tr>\n",
              "    <tr>\n",
              "      <td>5800</td>\n",
              "      <td>0.212800</td>\n",
              "    </tr>\n",
              "    <tr>\n",
              "      <td>6000</td>\n",
              "      <td>0.208200</td>\n",
              "    </tr>\n",
              "    <tr>\n",
              "      <td>6200</td>\n",
              "      <td>0.213200</td>\n",
              "    </tr>\n",
              "    <tr>\n",
              "      <td>6400</td>\n",
              "      <td>0.197900</td>\n",
              "    </tr>\n",
              "    <tr>\n",
              "      <td>6600</td>\n",
              "      <td>0.194400</td>\n",
              "    </tr>\n",
              "  </tbody>\n",
              "</table><p>"
            ]
          },
          "metadata": {}
        },
        {
          "output_type": "stream",
          "name": "stderr",
          "text": [
            "Saving model checkpoint to ./drive/MyDrive/model/checkpoint-500\n",
            "Configuration saved in ./drive/MyDrive/model/checkpoint-500/rotten_tomatoes/adapter_config.json\n",
            "Module weights saved in ./drive/MyDrive/model/checkpoint-500/rotten_tomatoes/pytorch_adapter.bin\n",
            "Configuration saved in ./drive/MyDrive/model/checkpoint-500/rotten_tomatoes/head_config.json\n",
            "Module weights saved in ./drive/MyDrive/model/checkpoint-500/rotten_tomatoes/pytorch_model_head.bin\n",
            "Configuration saved in ./drive/MyDrive/model/checkpoint-500/rotten_tomatoes/head_config.json\n",
            "Module weights saved in ./drive/MyDrive/model/checkpoint-500/rotten_tomatoes/pytorch_model_head.bin\n",
            "Saving model checkpoint to ./drive/MyDrive/model/checkpoint-1000\n",
            "Configuration saved in ./drive/MyDrive/model/checkpoint-1000/rotten_tomatoes/adapter_config.json\n",
            "Module weights saved in ./drive/MyDrive/model/checkpoint-1000/rotten_tomatoes/pytorch_adapter.bin\n",
            "Configuration saved in ./drive/MyDrive/model/checkpoint-1000/rotten_tomatoes/head_config.json\n",
            "Module weights saved in ./drive/MyDrive/model/checkpoint-1000/rotten_tomatoes/pytorch_model_head.bin\n",
            "Configuration saved in ./drive/MyDrive/model/checkpoint-1000/rotten_tomatoes/head_config.json\n",
            "Module weights saved in ./drive/MyDrive/model/checkpoint-1000/rotten_tomatoes/pytorch_model_head.bin\n",
            "Saving model checkpoint to ./drive/MyDrive/model/checkpoint-1500\n",
            "Configuration saved in ./drive/MyDrive/model/checkpoint-1500/rotten_tomatoes/adapter_config.json\n",
            "Module weights saved in ./drive/MyDrive/model/checkpoint-1500/rotten_tomatoes/pytorch_adapter.bin\n",
            "Configuration saved in ./drive/MyDrive/model/checkpoint-1500/rotten_tomatoes/head_config.json\n",
            "Module weights saved in ./drive/MyDrive/model/checkpoint-1500/rotten_tomatoes/pytorch_model_head.bin\n",
            "Configuration saved in ./drive/MyDrive/model/checkpoint-1500/rotten_tomatoes/head_config.json\n",
            "Module weights saved in ./drive/MyDrive/model/checkpoint-1500/rotten_tomatoes/pytorch_model_head.bin\n",
            "Saving model checkpoint to ./drive/MyDrive/model/checkpoint-2000\n",
            "Configuration saved in ./drive/MyDrive/model/checkpoint-2000/rotten_tomatoes/adapter_config.json\n",
            "Module weights saved in ./drive/MyDrive/model/checkpoint-2000/rotten_tomatoes/pytorch_adapter.bin\n",
            "Configuration saved in ./drive/MyDrive/model/checkpoint-2000/rotten_tomatoes/head_config.json\n",
            "Module weights saved in ./drive/MyDrive/model/checkpoint-2000/rotten_tomatoes/pytorch_model_head.bin\n",
            "Configuration saved in ./drive/MyDrive/model/checkpoint-2000/rotten_tomatoes/head_config.json\n",
            "Module weights saved in ./drive/MyDrive/model/checkpoint-2000/rotten_tomatoes/pytorch_model_head.bin\n",
            "Saving model checkpoint to ./drive/MyDrive/model/checkpoint-2500\n",
            "Configuration saved in ./drive/MyDrive/model/checkpoint-2500/rotten_tomatoes/adapter_config.json\n",
            "Module weights saved in ./drive/MyDrive/model/checkpoint-2500/rotten_tomatoes/pytorch_adapter.bin\n",
            "Configuration saved in ./drive/MyDrive/model/checkpoint-2500/rotten_tomatoes/head_config.json\n",
            "Module weights saved in ./drive/MyDrive/model/checkpoint-2500/rotten_tomatoes/pytorch_model_head.bin\n",
            "Configuration saved in ./drive/MyDrive/model/checkpoint-2500/rotten_tomatoes/head_config.json\n",
            "Module weights saved in ./drive/MyDrive/model/checkpoint-2500/rotten_tomatoes/pytorch_model_head.bin\n",
            "Saving model checkpoint to ./drive/MyDrive/model/checkpoint-3000\n",
            "Configuration saved in ./drive/MyDrive/model/checkpoint-3000/rotten_tomatoes/adapter_config.json\n",
            "Module weights saved in ./drive/MyDrive/model/checkpoint-3000/rotten_tomatoes/pytorch_adapter.bin\n",
            "Configuration saved in ./drive/MyDrive/model/checkpoint-3000/rotten_tomatoes/head_config.json\n",
            "Module weights saved in ./drive/MyDrive/model/checkpoint-3000/rotten_tomatoes/pytorch_model_head.bin\n",
            "Configuration saved in ./drive/MyDrive/model/checkpoint-3000/rotten_tomatoes/head_config.json\n",
            "Module weights saved in ./drive/MyDrive/model/checkpoint-3000/rotten_tomatoes/pytorch_model_head.bin\n",
            "Saving model checkpoint to ./drive/MyDrive/model/checkpoint-3500\n",
            "Configuration saved in ./drive/MyDrive/model/checkpoint-3500/rotten_tomatoes/adapter_config.json\n",
            "Module weights saved in ./drive/MyDrive/model/checkpoint-3500/rotten_tomatoes/pytorch_adapter.bin\n",
            "Configuration saved in ./drive/MyDrive/model/checkpoint-3500/rotten_tomatoes/head_config.json\n",
            "Module weights saved in ./drive/MyDrive/model/checkpoint-3500/rotten_tomatoes/pytorch_model_head.bin\n",
            "Configuration saved in ./drive/MyDrive/model/checkpoint-3500/rotten_tomatoes/head_config.json\n",
            "Module weights saved in ./drive/MyDrive/model/checkpoint-3500/rotten_tomatoes/pytorch_model_head.bin\n",
            "Saving model checkpoint to ./drive/MyDrive/model/checkpoint-4000\n",
            "Configuration saved in ./drive/MyDrive/model/checkpoint-4000/rotten_tomatoes/adapter_config.json\n",
            "Module weights saved in ./drive/MyDrive/model/checkpoint-4000/rotten_tomatoes/pytorch_adapter.bin\n",
            "Configuration saved in ./drive/MyDrive/model/checkpoint-4000/rotten_tomatoes/head_config.json\n",
            "Module weights saved in ./drive/MyDrive/model/checkpoint-4000/rotten_tomatoes/pytorch_model_head.bin\n",
            "Configuration saved in ./drive/MyDrive/model/checkpoint-4000/rotten_tomatoes/head_config.json\n",
            "Module weights saved in ./drive/MyDrive/model/checkpoint-4000/rotten_tomatoes/pytorch_model_head.bin\n",
            "Saving model checkpoint to ./drive/MyDrive/model/checkpoint-4500\n",
            "Configuration saved in ./drive/MyDrive/model/checkpoint-4500/rotten_tomatoes/adapter_config.json\n",
            "Module weights saved in ./drive/MyDrive/model/checkpoint-4500/rotten_tomatoes/pytorch_adapter.bin\n",
            "Configuration saved in ./drive/MyDrive/model/checkpoint-4500/rotten_tomatoes/head_config.json\n",
            "Module weights saved in ./drive/MyDrive/model/checkpoint-4500/rotten_tomatoes/pytorch_model_head.bin\n",
            "Configuration saved in ./drive/MyDrive/model/checkpoint-4500/rotten_tomatoes/head_config.json\n",
            "Module weights saved in ./drive/MyDrive/model/checkpoint-4500/rotten_tomatoes/pytorch_model_head.bin\n",
            "Saving model checkpoint to ./drive/MyDrive/model/checkpoint-5000\n",
            "Configuration saved in ./drive/MyDrive/model/checkpoint-5000/rotten_tomatoes/adapter_config.json\n",
            "Module weights saved in ./drive/MyDrive/model/checkpoint-5000/rotten_tomatoes/pytorch_adapter.bin\n",
            "Configuration saved in ./drive/MyDrive/model/checkpoint-5000/rotten_tomatoes/head_config.json\n",
            "Module weights saved in ./drive/MyDrive/model/checkpoint-5000/rotten_tomatoes/pytorch_model_head.bin\n",
            "Configuration saved in ./drive/MyDrive/model/checkpoint-5000/rotten_tomatoes/head_config.json\n",
            "Module weights saved in ./drive/MyDrive/model/checkpoint-5000/rotten_tomatoes/pytorch_model_head.bin\n",
            "Saving model checkpoint to ./drive/MyDrive/model/checkpoint-5500\n",
            "Configuration saved in ./drive/MyDrive/model/checkpoint-5500/rotten_tomatoes/adapter_config.json\n",
            "Module weights saved in ./drive/MyDrive/model/checkpoint-5500/rotten_tomatoes/pytorch_adapter.bin\n",
            "Configuration saved in ./drive/MyDrive/model/checkpoint-5500/rotten_tomatoes/head_config.json\n",
            "Module weights saved in ./drive/MyDrive/model/checkpoint-5500/rotten_tomatoes/pytorch_model_head.bin\n",
            "Configuration saved in ./drive/MyDrive/model/checkpoint-5500/rotten_tomatoes/head_config.json\n",
            "Module weights saved in ./drive/MyDrive/model/checkpoint-5500/rotten_tomatoes/pytorch_model_head.bin\n",
            "Saving model checkpoint to ./drive/MyDrive/model/checkpoint-6000\n",
            "Configuration saved in ./drive/MyDrive/model/checkpoint-6000/rotten_tomatoes/adapter_config.json\n",
            "Module weights saved in ./drive/MyDrive/model/checkpoint-6000/rotten_tomatoes/pytorch_adapter.bin\n",
            "Configuration saved in ./drive/MyDrive/model/checkpoint-6000/rotten_tomatoes/head_config.json\n",
            "Module weights saved in ./drive/MyDrive/model/checkpoint-6000/rotten_tomatoes/pytorch_model_head.bin\n",
            "Configuration saved in ./drive/MyDrive/model/checkpoint-6000/rotten_tomatoes/head_config.json\n",
            "Module weights saved in ./drive/MyDrive/model/checkpoint-6000/rotten_tomatoes/pytorch_model_head.bin\n",
            "Saving model checkpoint to ./drive/MyDrive/model/checkpoint-6500\n",
            "Configuration saved in ./drive/MyDrive/model/checkpoint-6500/rotten_tomatoes/adapter_config.json\n",
            "Module weights saved in ./drive/MyDrive/model/checkpoint-6500/rotten_tomatoes/pytorch_adapter.bin\n",
            "Configuration saved in ./drive/MyDrive/model/checkpoint-6500/rotten_tomatoes/head_config.json\n",
            "Module weights saved in ./drive/MyDrive/model/checkpoint-6500/rotten_tomatoes/pytorch_model_head.bin\n",
            "Configuration saved in ./drive/MyDrive/model/checkpoint-6500/rotten_tomatoes/head_config.json\n",
            "Module weights saved in ./drive/MyDrive/model/checkpoint-6500/rotten_tomatoes/pytorch_model_head.bin\n",
            "\n",
            "\n",
            "Training completed. Do not forget to share your model on huggingface.co/models =)\n",
            "\n",
            "\n"
          ]
        },
        {
          "output_type": "execute_result",
          "data": {
            "text/plain": [
              "TrainOutput(global_step=6714, training_loss=0.25724136470718545, metrics={'train_runtime': 1912.7129, 'train_samples_per_second': 112.235, 'train_steps_per_second': 3.51, 'total_flos': 8978516789040000.0, 'train_loss': 0.25724136470718545, 'epoch': 6.0})"
            ]
          },
          "metadata": {},
          "execution_count": 29
        }
      ]
    },
    {
      "cell_type": "code",
      "source": [
        "import matplotlib.pyplot as plt\n",
        "losses = trainer.state.log_history\n",
        "x = list(range(0, len(losses)-1))\n",
        "plt_train_loss = []\n",
        "\n",
        "\n",
        "for loss in losses:\n",
        "  if 'loss' in loss:\n",
        "    plt_train_loss.append(loss['loss'])\n",
        "\n",
        "\n",
        "fig, ax = plt.subplots(figsize = (10, 10))\n",
        "ax.plot(x, plt_train_loss)\n",
        "ax.legend(['Train Loss'])"
      ],
      "metadata": {
        "colab": {
          "base_uri": "https://localhost:8080/",
          "height": 847
        },
        "id": "9uCFQy5KUWUH",
        "outputId": "90870b25-421d-48d7-a0c6-6dfc1b7cf252"
      },
      "execution_count": null,
      "outputs": [
        {
          "output_type": "execute_result",
          "data": {
            "text/plain": [
              "<matplotlib.legend.Legend at 0x7bc52d1681c0>"
            ]
          },
          "metadata": {},
          "execution_count": 39
        },
        {
          "output_type": "display_data",
          "data": {
            "text/plain": [
              "<Figure size 1000x1000 with 1 Axes>"
            ],
            "image/png": "[encoded data removed]"
          },
          "metadata": {}
        }
      ]
    },
    {
      "cell_type": "markdown",
      "source": [
        "Looks good! Let's evaluate our adapter on the validation split of the dataset to see how well it learned:"
      ],
      "metadata": {
        "id": "KwyELxFKJJEz"
      }
    },
    {
      "cell_type": "code",
      "source": [
        "trainer.evaluate()"
      ],
      "metadata": {
        "colab": {
          "base_uri": "https://localhost:8080/",
          "height": 193
        },
        "id": "9PgHWEhsYeMv",
        "outputId": "3ffe0fa1-289f-4cf4-b88d-579e604a4241",
        "pycharm": {
          "is_executing": false
        },
        "execution": {
          "iopub.status.busy": "2023-08-14T13:00:14.499791Z",
          "iopub.status.idle": "2023-08-14T13:00:14.500363Z",
          "shell.execute_reply.started": "2023-08-14T13:00:14.500115Z",
          "shell.execute_reply": "2023-08-14T13:00:14.500139Z"
        },
        "trusted": true
      },
      "execution_count": null,
      "outputs": [
        {
          "output_type": "stream",
          "name": "stderr",
          "text": [
            "***** Running Evaluation *****\n",
            "  Num examples = 3976\n",
            "  Batch size = 32\n"
          ]
        },
        {
          "output_type": "display_data",
          "data": {
            "text/plain": [
              "<IPython.core.display.HTML object>"
            ],
            "text/html": [
              "\n",
              "    <div>\n",
              "      \n",
              "      <progress value='125' max='125' style='width:300px; height:20px; vertical-align: middle;'></progress>\n",
              "      [125/125 00:17]\n",
              "    </div>\n",
              "    "
            ]
          },
          "metadata": {}
        },
        {
          "output_type": "execute_result",
          "data": {
            "text/plain": [
              "{'eval_loss': 0.25277870893478394,\n",
              " 'eval_acc': 0.9024144869215291,\n",
              " 'eval_runtime': 17.6985,\n",
              " 'eval_samples_per_second': 224.652,\n",
              " 'eval_steps_per_second': 7.063,\n",
              " 'epoch': 6.0}"
            ]
          },
          "metadata": {},
          "execution_count": 40
        }
      ]
    },
    {
      "cell_type": "markdown",
      "source": [
        "We can put our trained model into a `transformers` pipeline to be able to make new predictions conveniently:"
      ],
      "metadata": {
        "id": "PLLWSmCjJbVX"
      }
    },
    {
      "cell_type": "code",
      "source": [
        "losses = trainer.state.log_history\n",
        "x = list(range(0, len(losses)-2))\n",
        "plt_validation_loss = []\n",
        "\n",
        "\n",
        "for loss in losses:\n",
        "  print(loss)\n",
        "#   if 'loss' in loss:\n",
        "#     plt_validation_loss.append(loss['loss'])\n",
        "\n",
        "\n",
        "# fig, ax = plt.subplots(figsize = (10, 10))\n",
        "# ax.plot(x, plt_train_loss)\n",
        "# ax.legend(['validation Loss'])"
      ],
      "metadata": {
        "colab": {
          "base_uri": "https://localhost:8080/"
        },
        "id": "MOm21H3ILDs0",
        "outputId": "6510e255-56ee-4daa-8aa8-bf613cfeed25"
      },
      "execution_count": null,
      "outputs": [
        {
          "output_type": "stream",
          "name": "stdout",
          "text": [
            "{'loss': 0.5843, 'learning_rate': 9.702114983616324e-05, 'epoch': 0.18, 'step': 200}\n",
            "{'loss': 0.3602, 'learning_rate': 9.404229967232648e-05, 'epoch': 0.36, 'step': 400}\n",
            "{'loss': 0.3429, 'learning_rate': 9.106344950848973e-05, 'epoch': 0.54, 'step': 600}\n",
            "{'loss': 0.3294, 'learning_rate': 8.808459934465296e-05, 'epoch': 0.71, 'step': 800}\n",
            "{'loss': 0.2958, 'learning_rate': 8.510574918081621e-05, 'epoch': 0.89, 'step': 1000}\n",
            "{'loss': 0.2918, 'learning_rate': 8.212689901697945e-05, 'epoch': 1.07, 'step': 1200}\n",
            "{'loss': 0.2812, 'learning_rate': 7.914804885314269e-05, 'epoch': 1.25, 'step': 1400}\n",
            "{'loss': 0.2848, 'learning_rate': 7.616919868930593e-05, 'epoch': 1.43, 'step': 1600}\n",
            "{'loss': 0.2667, 'learning_rate': 7.319034852546918e-05, 'epoch': 1.61, 'step': 1800}\n",
            "{'loss': 0.2854, 'learning_rate': 7.021149836163241e-05, 'epoch': 1.79, 'step': 2000}\n",
            "{'loss': 0.2638, 'learning_rate': 6.723264819779566e-05, 'epoch': 1.97, 'step': 2200}\n",
            "{'loss': 0.2574, 'learning_rate': 6.425379803395888e-05, 'epoch': 2.14, 'step': 2400}\n",
            "{'loss': 0.2525, 'learning_rate': 6.127494787012214e-05, 'epoch': 2.32, 'step': 2600}\n",
            "{'loss': 0.2481, 'learning_rate': 5.829609770628538e-05, 'epoch': 2.5, 'step': 2800}\n",
            "{'loss': 0.2363, 'learning_rate': 5.5317247542448615e-05, 'epoch': 2.68, 'step': 3000}\n",
            "{'loss': 0.2439, 'learning_rate': 5.233839737861186e-05, 'epoch': 2.86, 'step': 3200}\n",
            "{'loss': 0.2426, 'learning_rate': 4.93595472147751e-05, 'epoch': 3.04, 'step': 3400}\n",
            "{'loss': 0.2216, 'learning_rate': 4.638069705093834e-05, 'epoch': 3.22, 'step': 3600}\n",
            "{'loss': 0.2245, 'learning_rate': 4.3401846887101584e-05, 'epoch': 3.4, 'step': 3800}\n",
            "{'loss': 0.2259, 'learning_rate': 4.042299672326482e-05, 'epoch': 3.57, 'step': 4000}\n",
            "{'loss': 0.2374, 'learning_rate': 3.744414655942806e-05, 'epoch': 3.75, 'step': 4200}\n",
            "{'loss': 0.2267, 'learning_rate': 3.44652963955913e-05, 'epoch': 3.93, 'step': 4400}\n",
            "{'loss': 0.2125, 'learning_rate': 3.1486446231754547e-05, 'epoch': 4.11, 'step': 4600}\n",
            "{'loss': 0.2169, 'learning_rate': 2.8507596067917785e-05, 'epoch': 4.29, 'step': 4800}\n",
            "{'loss': 0.2142, 'learning_rate': 2.5528745904081024e-05, 'epoch': 4.47, 'step': 5000}\n",
            "{'loss': 0.2143, 'learning_rate': 2.2549895740244267e-05, 'epoch': 4.65, 'step': 5200}\n",
            "{'loss': 0.2115, 'learning_rate': 1.9571045576407505e-05, 'epoch': 4.83, 'step': 5400}\n",
            "{'loss': 0.2175, 'learning_rate': 1.6592195412570748e-05, 'epoch': 5.0, 'step': 5600}\n",
            "{'loss': 0.2128, 'learning_rate': 1.3613345248733988e-05, 'epoch': 5.18, 'step': 5800}\n",
            "{'loss': 0.2082, 'learning_rate': 1.063449508489723e-05, 'epoch': 5.36, 'step': 6000}\n",
            "{'loss': 0.2132, 'learning_rate': 7.655644921060471e-06, 'epoch': 5.54, 'step': 6200}\n",
            "{'loss': 0.1979, 'learning_rate': 4.676794757223712e-06, 'epoch': 5.72, 'step': 6400}\n",
            "{'loss': 0.1944, 'learning_rate': 1.6979445933869528e-06, 'epoch': 5.9, 'step': 6600}\n",
            "{'train_runtime': 1912.7129, 'train_samples_per_second': 112.235, 'train_steps_per_second': 3.51, 'total_flos': 8978516789040000.0, 'train_loss': 0.25724136470718545, 'epoch': 6.0, 'step': 6714}\n",
            "{'eval_loss': 0.25277870893478394, 'eval_acc': 0.9024144869215291, 'eval_runtime': 17.6985, 'eval_samples_per_second': 224.652, 'eval_steps_per_second': 7.063, 'epoch': 6.0, 'step': 6714}\n"
          ]
        }
      ]
    },
    {
      "cell_type": "code",
      "source": [
        "from transformers import TextClassificationPipeline\n",
        "\n",
        "classifier = TextClassificationPipeline(model=model, tokenizer=tokenizer, device=training_args.device.index)\n",
        "\n",
        "classifier(\"What role do you think individual actions play in contributing to efforts to combat global warming and promote environmental sustainability?\")"
      ],
      "metadata": {
        "colab": {
          "base_uri": "https://localhost:8080/"
        },
        "id": "Arw8GcsA8MeK",
        "outputId": "3812dfa2-c549-4f8c-a938-94f095951d4d",
        "pycharm": {
          "is_executing": false
        },
        "execution": {
          "iopub.status.busy": "2023-08-14T13:00:14.503286Z",
          "iopub.status.idle": "2023-08-14T13:00:14.503995Z",
          "shell.execute_reply.started": "2023-08-14T13:00:14.503628Z",
          "shell.execute_reply": "2023-08-14T13:00:14.503657Z"
        },
        "trusted": true
      },
      "execution_count": null,
      "outputs": [
        {
          "output_type": "stream",
          "name": "stderr",
          "text": [
            "The model 'RobertaModelWithHeads' is not supported for . Supported models are ['AlbertForSequenceClassification', 'BartForSequenceClassification', 'BertForSequenceClassification', 'BigBirdForSequenceClassification', 'BigBirdPegasusForSequenceClassification', 'BloomForSequenceClassification', 'CamembertForSequenceClassification', 'CanineForSequenceClassification', 'ConvBertForSequenceClassification', 'CTRLForSequenceClassification', 'Data2VecTextForSequenceClassification', 'DebertaForSequenceClassification', 'DebertaV2ForSequenceClassification', 'DistilBertForSequenceClassification', 'ElectraForSequenceClassification', 'ErnieForSequenceClassification', 'EsmForSequenceClassification', 'FlaubertForSequenceClassification', 'FNetForSequenceClassification', 'FunnelForSequenceClassification', 'GPT2ForSequenceClassification', 'GPT2ForSequenceClassification', 'GPTNeoForSequenceClassification', 'GPTJForSequenceClassification', 'IBertForSequenceClassification', 'LayoutLMForSequenceClassification', 'LayoutLMv2ForSequenceClassification', 'LayoutLMv3ForSequenceClassification', 'LEDForSequenceClassification', 'LiltForSequenceClassification', 'LongformerForSequenceClassification', 'LukeForSequenceClassification', 'MarkupLMForSequenceClassification', 'MBartForSequenceClassification', 'MegatronBertForSequenceClassification', 'MobileBertForSequenceClassification', 'MPNetForSequenceClassification', 'MvpForSequenceClassification', 'NezhaForSequenceClassification', 'NystromformerForSequenceClassification', 'OpenAIGPTForSequenceClassification', 'OPTForSequenceClassification', 'PerceiverForSequenceClassification', 'PLBartForSequenceClassification', 'QDQBertForSequenceClassification', 'ReformerForSequenceClassification', 'RemBertForSequenceClassification', 'RobertaForSequenceClassification', 'RobertaPreLayerNormForSequenceClassification', 'RoCBertForSequenceClassification', 'RoFormerForSequenceClassification', 'SqueezeBertForSequenceClassification', 'TapasForSequenceClassification', 'TransfoXLForSequenceClassification', 'XLMForSequenceClassification', 'XLMRobertaForSequenceClassification', 'XLMRobertaXLForSequenceClassification', 'XLNetForSequenceClassification', 'YosoForSequenceClassification', 'XLMRobertaAdapterModel', 'RobertaAdapterModel', 'AlbertAdapterModel', 'BeitAdapterModel', 'BertAdapterModel', 'BertGenerationAdapterModel', 'DistilBertAdapterModel', 'DebertaV2AdapterModel', 'DebertaAdapterModel', 'BartAdapterModel', 'MBartAdapterModel', 'GPT2AdapterModel', 'GPTJAdapterModel', 'T5AdapterModel', 'ViTAdapterModel'].\n"
          ]
        },
        {
          "output_type": "execute_result",
          "data": {
            "text/plain": [
              "[{'label': 'LABEL_1', 'score': 0.9961013793945312}]"
            ]
          },
          "metadata": {},
          "execution_count": 44
        }
      ]
    },
    {
      "cell_type": "markdown",
      "source": [
        "At last, we can also extract the adapter from our model and separately save it for later reuse. Note the size difference compared to a full model!"
      ],
      "metadata": {
        "id": "cYykwoLaJvcJ"
      }
    },
    {
      "cell_type": "code",
      "source": [
        "model.save_adapter(\"./drive/MyDrive/model\", \"rotten_tomatoes\")\n",
        "\n",
        "!ls -lh final_adapter"
      ],
      "metadata": {
        "colab": {
          "base_uri": "https://localhost:8080/"
        },
        "id": "ZfK_AtSz4tlt",
        "outputId": "984cff0e-6318-45a8-cac7-538766cd3a07",
        "pycharm": {
          "is_executing": false
        },
        "execution": {
          "iopub.status.busy": "2023-08-14T13:00:14.506099Z",
          "iopub.status.idle": "2023-08-14T13:00:14.506549Z",
          "shell.execute_reply.started": "2023-08-14T13:00:14.506343Z",
          "shell.execute_reply": "2023-08-14T13:00:14.506363Z"
        },
        "trusted": true
      },
      "execution_count": null,
      "outputs": [
        {
          "output_type": "stream",
          "name": "stderr",
          "text": [
            "Configuration saved in ./drive/MyDrive/model/adapter_config.json\n",
            "Module weights saved in ./drive/MyDrive/model/pytorch_adapter.bin\n",
            "Configuration saved in ./drive/MyDrive/model/head_config.json\n",
            "Module weights saved in ./drive/MyDrive/model/pytorch_model_head.bin\n"
          ]
        },
        {
          "output_type": "stream",
          "name": "stdout",
          "text": [
            "ls: cannot access 'final_adapter': No such file or directory\n"
          ]
        }
      ]
    },
    {
      "cell_type": "markdown",
      "source": [
        "**Share your work!**\n",
        "\n",
        "The next step after training is to share our adapter with the world via _AdapterHub_. [Read our guide](https://docs.adapterhub.ml/contributing.html) on how to prepare the adapter module we just saved and contribute it to the Hub!\n",
        "\n",
        "➡️ Also continue with [the next Colab notebook](https://colab.research.google.com/github/Adapter-Hub/adapter-transformers/blob/master/notebooks/02_Adapter_Inference.ipynb) to learn how to use adapters from the Hub."
      ],
      "metadata": {
        "id": "HE5osXd_eJ6t"
      }
    }
  ]
}